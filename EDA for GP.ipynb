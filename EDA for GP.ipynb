{
 "cells": [
  {
   "cell_type": "markdown",
   "metadata": {},
   "source": [
    "## <center>Whats in the Gutenburg Project</center>\n",
    "\n",
    "My plan is to be able to graphicly compaer novles.\n",
    "\n",
    "Idealy this will work in a django based web site and use Bokeh to disply interactive plots about the library and books within the library.\n",
    "\n",
    "I will also attempt to make a classir to predict diffrent authers, genras, or publication times (actuly based on auther birth year)\n",
    "\n",
    "\n",
    "Idealy this will all go in to a nice clean fancy...... well online."
   ]
  },
  {
   "cell_type": "markdown",
   "metadata": {},
   "source": [
    "![]()"
   ]
  },
  {
   "cell_type": "markdown",
   "metadata": {
    "collapsed": true
   },
   "source": [
    "![](https://snag.gy/1UkQNY.jpg)"
   ]
  },
  {
   "cell_type": "markdown",
   "metadata": {},
   "source": [
    "![](https://snag.gy/OR9ioY.jpg)"
   ]
  },
  {
   "cell_type": "markdown",
   "metadata": {},
   "source": [
    "\n",
    "<img src=\"https://snag.gy/GIf0dK.jpg\" style=\"float:left; width:49%; vertical-align: text-top;\"> \n",
    "<img src=\"https://snag.gy/1LJYrC.jpg\" style=\"float:right; width:49%; vertical-align:: text-top;\"> \n",
    "\n"
   ]
  },
  {
   "cell_type": "markdown",
   "metadata": {},
   "source": [
    "## <center> Authers with the most book</center>\n",
    "### <center> with and without 'unknow authers'</center>\n",
    "\n",
    "<img src=\"https://snag.gy/VT9mhd.jpg\" style=\"float:right; width:49%; vertical-align:: text-top;\"> \n",
    "<img src=\"https://snag.gy/vedEFC.jpg\" style=\"float:right; width:49%; vertical-align:: text-top;\"> \n"
   ]
  },
  {
   "cell_type": "markdown",
   "metadata": {},
   "source": []
  },
  {
   "cell_type": "markdown",
   "metadata": {},
   "source": [
    "## <center> Most Frquently Taged Subject </center>"
   ]
  },
  {
   "cell_type": "markdown",
   "metadata": {},
   "source": [
    "![](https://snag.gy/LFh6kQ.jpg)"
   ]
  },
  {
   "cell_type": "markdown",
   "metadata": {},
   "source": [
    "### <center> Exploring Books by Josph Conrad </center>"
   ]
  },
  {
   "cell_type": "markdown",
   "metadata": {},
   "source": [
    "![](https://snag.gy/va7lRf.jpg)"
   ]
  },
  {
   "cell_type": "markdown",
   "metadata": {},
   "source": [
    "### <center> Looking at positive sentemnt for Nostromo by J. Conrad </center>"
   ]
  },
  {
   "cell_type": "markdown",
   "metadata": {},
   "source": [
    "![](https://snag.gy/KBlMbr.jpg)"
   ]
  },
  {
   "cell_type": "markdown",
   "metadata": {},
   "source": [
    "### <center> Looking at positive sentemnt with filter J. Conrad </center>"
   ]
  },
  {
   "cell_type": "markdown",
   "metadata": {},
   "source": [
    "![](https://snag.gy/Ff7tOE.jpg)"
   ]
  },
  {
   "cell_type": "markdown",
   "metadata": {},
   "source": [
    "### <center> Turning the filter way up!!! </center>\n",
    "![](https://snag.gy/yiGLtV.jpg)"
   ]
  },
  {
   "cell_type": "markdown",
   "metadata": {},
   "source": [
    "## Bellow we can see that the Verbs or Nouns have little corrlation"
   ]
  },
  {
   "cell_type": "markdown",
   "metadata": {},
   "source": [
    "![](https://snag.gy/Zodnju.jpg)"
   ]
  },
  {
   "cell_type": "markdown",
   "metadata": {},
   "source": [
    "## Bellow we can see that the positive and Negitive sentment some corrlation"
   ]
  },
  {
   "cell_type": "markdown",
   "metadata": {},
   "source": [
    "![](https://snag.gy/cyrXlo.jpg)"
   ]
  },
  {
   "cell_type": "code",
   "execution_count": null,
   "metadata": {
    "collapsed": true
   },
   "outputs": [],
   "source": []
  }
 ],
 "metadata": {
  "kernelspec": {
   "display_name": "Python [dsi]",
   "language": "python",
   "name": "Python [dsi]"
  },
  "language_info": {
   "codemirror_mode": {
    "name": "ipython",
    "version": 2
   },
   "file_extension": ".py",
   "mimetype": "text/x-python",
   "name": "python",
   "nbconvert_exporter": "python",
   "pygments_lexer": "ipython2",
   "version": "2.7.12"
  }
 },
 "nbformat": 4,
 "nbformat_minor": 0
}
